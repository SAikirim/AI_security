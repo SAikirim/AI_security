{
 "cells": [
  {
   "cell_type": "markdown",
   "metadata": {},
   "source": [
    "# test_0925.py\n"
   ]
  },
  {
   "cell_type": "code",
   "execution_count": null,
   "metadata": {},
   "outputs": [],
   "source": [
    "# 예외처리 실습\n",
    "print(\"--------------------------------\"*3)\n",
    "print(\"\\n# 예외처리 실습\")"
   ]
  },
  {
   "cell_type": "code",
   "execution_count": 1,
   "metadata": {},
   "outputs": [
    {
     "name": "stdout",
     "output_type": "stream",
     "text": [
      "int형만 가능: wae\n",
      "AllError\n"
     ]
    }
   ],
   "source": [
    "#1\n",
    "\n",
    "try:\n",
    "\tprint(int(input(\"int형만 가능: \")))\n",
    "except:\n",
    "\tprint(\"AllError\")\n"
   ]
  },
  {
   "cell_type": "code",
   "execution_count": null,
   "metadata": {},
   "outputs": [],
   "source": [
    "#2. 존재하지 않는 파일을 열 경우에 발생하는 오류에 대해서만 \"no data\" 를 출력하도록 하시오.\n",
    "try:\n",
    "\tprint(int(input(\"int형만 가능: \")))\n",
    "\twith open(\"test.txt\", 'r') as f:\n",
    "\t\tpass\n",
    "except FileNotFoundError :\n",
    "\tprint(\"no data\")\t\n",
    "M=except:\n",
    "\tprint(\"AllError\")"
   ]
  },
  {
   "cell_type": "code",
   "execution_count": 6,
   "metadata": {},
   "outputs": [
    {
     "name": "stdout",
     "output_type": "stream",
     "text": [
      "2\n"
     ]
    }
   ],
   "source": [
    "# 3. a={1:2,3:4} 딕셔너리에서 존재하지 않는 키값을 호출할 경우 발생하는 오류에 대해서 오류 메세지를 발생하도록 하시오.\n",
    "#4\n",
    "a = {1:2,3:4}\n",
    "try:\n",
    "    a[2]\n",
    "    b = int('abc')\n",
    "except (KeyError, ValueError) as e:\n",
    "    print(e)"
   ]
  },
  {
   "cell_type": "code",
   "execution_count": null,
   "metadata": {},
   "outputs": [],
   "source": [
    "# 5\n",
    "try:\n",
    "    b = 123\n",
    "    print(c)\n",
    "except NameError:\n",
    "    print(int(\"123\"))"
   ]
  },
  {
   "cell_type": "code",
   "execution_count": 12,
   "metadata": {},
   "outputs": [],
   "source": [
    "#6\n",
    "a = [1,2,3,4]\n",
    "try:\n",
    "    if a in \"123\":\n",
    "        print(a)\n",
    "except TypeError:\n",
    "    pass"
   ]
  },
  {
   "cell_type": "code",
   "execution_count": null,
   "metadata": {},
   "outputs": [],
   "source": [
    "# 7\n",
    "class A:\n",
    "    def a(self):\n",
    "        print(\"A.a\")\n",
    "        print(dd)\n",
    "try:\n",
    "    b = A()\n",
    "    b.a()\n",
    "except:\n",
    "    class B(A):\n",
    "        def a(delf):\n",
    "            print(\"B.a\")\n",
    "    b = B()\n",
    "finally:\n",
    "    b.a()"
   ]
  },
  {
   "cell_type": "code",
   "execution_count": null,
   "metadata": {},
   "outputs": [],
   "source": [
    "# 8\n",
    "'''class Exception:\n",
    "    def div(self, num1, num2):\n",
    "        if 0 == num1%num2:\n",
    "            print(\"AA 와 BB의 나머지는 0 입니다.\")\n",
    "a = Exception()\n",
    "a.div(input(\"숫자: \".slpit()))'''\n",
    "\n",
    "class Error0(Exception):\n",
    "    pass\n",
    "   \n",
    "def cal(num1,num2):\n",
    "    if num1%num2 == 0:\n",
    "        raise Error0()\n",
    "    else:\n",
    "        print(\"{}%{}={}\".format(num1,num2,num1%num2))\n",
    "        \n",
    "try:\n",
    "    num1=int(input(\"첫번째 숫자 : \" ))\n",
    "    num2=int(input(\"두번째 숫자 : \"))\n",
    "    cal(num1,num2)\n",
    "\n",
    "except Error0:\n",
    "    print(\"{} 와 {}의 나머지 값은 {}이다.\".format(num1,num2,num1%num2))"
   ]
  },
  {
   "cell_type": "code",
   "execution_count": 6,
   "metadata": {
    "scrolled": true
   },
   "outputs": [
    {
     "name": "stdout",
     "output_type": "stream",
     "text": [
      "str 입력: A\n",
      "A를 입력하지 마시오\n"
     ]
    }
   ],
   "source": [
    "# 9\n",
    "class MyError(Exception):\n",
    "    def __str__(self):\n",
    "        return \"A를 입력하지 마시오\"\n",
    "try:\n",
    "    string = input(\"str 입력: \")\n",
    "    if string in 'A':\n",
    "        raise MyError()\n",
    "    else:\n",
    "        print(string)\n",
    "except MyError as e:\n",
    "    print(e)\n"
   ]
  },
  {
   "cell_type": "code",
   "execution_count": null,
   "metadata": {},
   "outputs": [],
   "source": [
    "# 10\n",
    "while True:\n",
    "    try:\n",
    "        a=int(input(\"숫자를 입력하시오 : \"))\n",
    "    except:\n",
    "        print(\"다시 입력하시오.\\n\")\n",
    "        \n",
    "print(a)\n"
   ]
  },
  {
   "cell_type": "code",
   "execution_count": null,
   "metadata": {},
   "outputs": [],
   "source": [
    "# 내장함수 실습\n",
    "print(\"--------------------------------\"*3)\n",
    "print(\"\\n# 내장함수 실습\")"
   ]
  },
  {
   "cell_type": "code",
   "execution_count": 36,
   "metadata": {},
   "outputs": [
    {
     "name": "stdout",
     "output_type": "stream",
     "text": [
      "[7, 3, 5, 1]\n",
      "[7, 3, 5, 1]\n"
     ]
    }
   ],
   "source": [
    "# 1\n",
    "list1=[7,3,5,2,0,6,1,4]  \n",
    "print(list(filter( lambda x : 1 == x%2 ,list1)))\n",
    "print([x for x in list1 if 1 == x%2])"
   ]
  },
  {
   "cell_type": "code",
   "execution_count": 37,
   "metadata": {},
   "outputs": [
    {
     "name": "stdout",
     "output_type": "stream",
     "text": [
      "['7', '3', '5', '2', '0', '6', '1', '4']\n"
     ]
    }
   ],
   "source": [
    "# 2\n",
    "list2 = list(map(str, list1))\n",
    "print(list2)"
   ]
  },
  {
   "cell_type": "code",
   "execution_count": 12,
   "metadata": {},
   "outputs": [
    {
     "name": "stdout",
     "output_type": "stream",
     "text": [
      "['0', '1', '2', '3', '4', '5', '6', '7']\n"
     ]
    }
   ],
   "source": [
    "# 3\n",
    "print(sorted(list2))"
   ]
  },
  {
   "cell_type": "code",
   "execution_count": 39,
   "metadata": {},
   "outputs": [
    {
     "name": "stdout",
     "output_type": "stream",
     "text": [
      "[55, 51, 53, 50, 48, 54, 49, 52]\n"
     ]
    }
   ],
   "source": [
    "# 4\n",
    "list3 = [ ord(i) for idx, i in enumerate(list2)]\n",
    "print(list3)"
   ]
  },
  {
   "cell_type": "code",
   "execution_count": 14,
   "metadata": {},
   "outputs": [
    {
     "name": "stdout",
     "output_type": "stream",
     "text": [
      "412\n",
      "51.5\n"
     ]
    }
   ],
   "source": [
    "# 5\n",
    "print(sum(list3))\n",
    "print(sum(list3)/len(list3))"
   ]
  },
  {
   "cell_type": "code",
   "execution_count": 15,
   "metadata": {
    "scrolled": true
   },
   "outputs": [
    {
     "name": "stdout",
     "output_type": "stream",
     "text": [
      "55 48\n",
      "(1, 7)\n"
     ]
    }
   ],
   "source": [
    "# 6\n",
    "print(max(list3),min(list3))\n",
    "print(divmod(max(list3), min(list3)))"
   ]
  },
  {
   "cell_type": "code",
   "execution_count": 46,
   "metadata": {},
   "outputs": [
    {
     "name": "stdout",
     "output_type": "stream",
     "text": [
      "{'7': 55, '3': 51, '5': 53, '2': 50, '0': 48, '6': 54, '1': 49, '4': 52} <class 'dict'>\n"
     ]
    }
   ],
   "source": [
    "# 7\n",
    "dic =dict(zip(list2,list3))\n",
    "dic_s = str(dic)\n",
    "\n",
    "with open(\"test.txt\", 'w') as f:\n",
    "    f.write(dic_s)\n",
    "    \n",
    "with open(\"test.txt\", 'r') as f:\n",
    "    dic = eval(f.readline())\n",
    "\n",
    "print(dic,type(dic))"
   ]
  },
  {
   "cell_type": "code",
   "execution_count": 50,
   "metadata": {},
   "outputs": [
    {
     "name": "stdout",
     "output_type": "stream",
     "text": [
      "['__add__', '__class__', '__contains__', '__delattr__', '__dir__', '__doc__', '__eq__', '__format__', '__ge__', '__getattribute__', '__getitem__', '__getnewargs__', '__gt__', '__hash__', '__init__', '__init_subclass__', '__iter__', '__le__', '__len__', '__lt__', '__mod__', '__mul__', '__ne__', '__new__', '__reduce__', '__reduce_ex__', '__repr__', '__rmod__', '__rmul__', '__setattr__', '__sizeof__', '__str__', '__subclasshook__', 'capitalize', 'casefold', 'center', 'count', 'encode', 'endswith', 'expandtabs', 'find', 'format', 'format_map', 'index', 'isalnum', 'isalpha', 'isascii', 'isdecimal', 'isdigit', 'isidentifier', 'islower', 'isnumeric', 'isprintable', 'isspace', 'istitle', 'isupper', 'join', 'ljust', 'lower', 'lstrip', 'maketrans', 'partition', 'replace', 'rfind', 'rindex', 'rjust', 'rpartition', 'rsplit', 'rstrip', 'split', 'splitlines', 'startswith', 'strip', 'swapcase', 'title', 'translate', 'upper', 'zfill']\n"
     ]
    }
   ],
   "source": [
    "# 8\n",
    "print(dir(\"A\"))"
   ]
  },
  {
   "cell_type": "code",
   "execution_count": 55,
   "metadata": {
    "scrolled": true
   },
   "outputs": [
    {
     "name": "stdout",
     "output_type": "stream",
     "text": [
      "실수형: 123.34567890\n",
      "123.346\n"
     ]
    }
   ],
   "source": [
    "# 9\n",
    "while True:\n",
    "    try:\n",
    "        num = float(input(\"실수형: \"))\n",
    "        print(round(num,3))\n",
    "        break\n",
    "    except:\n",
    "        continue\n",
    "    \n",
    "    "
   ]
  }
 ],
 "metadata": {
  "kernelspec": {
   "display_name": "Python 3",
   "language": "python",
   "name": "python3"
  },
  "language_info": {
   "codemirror_mode": {
    "name": "ipython",
    "version": 3
   },
   "file_extension": ".py",
   "mimetype": "text/x-python",
   "name": "python",
   "nbconvert_exporter": "python",
   "pygments_lexer": "ipython3",
   "version": "3.8.5"
  }
 },
 "nbformat": 4,
 "nbformat_minor": 4
}
